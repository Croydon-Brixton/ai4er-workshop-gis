{
 "metadata": {
  "language_info": {
   "codemirror_mode": {
    "name": "ipython",
    "version": 3
   },
   "file_extension": ".py",
   "mimetype": "text/x-python",
   "name": "python",
   "nbconvert_exporter": "python",
   "pygments_lexer": "ipython3",
   "version": "3.8.8-final"
  },
  "orig_nbformat": 2,
  "kernelspec": {
   "name": "python38864bitai4erworkshopgisconda3382785939a84ea288fcc951f054071c",
   "display_name": "Python 3.8.8 64-bit ('ai4er-workshop-gis': conda)",
   "language": "python"
  }
 },
 "nbformat": 4,
 "nbformat_minor": 2,
 "cells": [
  {
   "source": [
    "# Part 4 rasters - Exercise\n",
    "\n",
    "\n",
    "In the data folder, there are several GeoTIFFs of Canopy Height Models (CHMs). This is essentially the height of the forest above ground.\n",
    "\n",
    "There is data from two different years (2013,2014), in several tiles. Your task is to construct a difference raster (CHM2013 - CHM2014) over the area where the data overlaps."
   ],
   "cell_type": "markdown",
   "metadata": {}
  },
  {
   "cell_type": "code",
   "execution_count": 21,
   "metadata": {},
   "outputs": [
    {
     "output_type": "display_data",
     "data": {
      "text/plain": "[PosixPath('../data/CHM_raster/2013/Danum_ETH_A_CHM_50cm_587547_sub05.tif'),\n PosixPath('../data/CHM_raster/2013/Danum_ETH_A_CHM_50cm_587548_sub05.tif'),\n PosixPath('../data/CHM_raster/2013/Danum_ETH_A_CHM_50cm_588548_sub05.tif'),\n PosixPath('../data/CHM_raster/2013/Danum_ETH_A_CHM_50cm_588547_sub05.tif')]"
     },
     "metadata": {}
    },
    {
     "output_type": "display_data",
     "data": {
      "text/plain": "[PosixPath('../data/CHM_raster/2013/Danum_ETH_A_CHM_50cm_587547_sub05.tif'),\n PosixPath('../data/CHM_raster/2013/Danum_ETH_A_CHM_50cm_587548_sub05.tif'),\n PosixPath('../data/CHM_raster/2013/Danum_ETH_A_CHM_50cm_588548_sub05.tif'),\n PosixPath('../data/CHM_raster/2013/Danum_ETH_A_CHM_50cm_588547_sub05.tif')]"
     },
     "metadata": {}
    }
   ],
   "source": [
    "from pathlib import Path\n",
    "from mycolors import cmap_chm,cmap_diff\n",
    "\n",
    "\n",
    "dir_chm = Path(\"../data\") / \"CHM_raster\"\n",
    "dir_chm2013 = dir_chm / \"2013\"\n",
    "dir_chm2014 = dir_chm / \"2014\"\n",
    "\n",
    "files2013 = [x for x in dir_chm2013.glob(\"**/*\") if x.is_file()]\n",
    "files2014 = [x for x in dir_chm2013.glob(\"**/*\") if x.is_file()]\n",
    "\n",
    "display(files2013)\n",
    "display(files2014)"
   ]
  },
  {
   "cell_type": "code",
   "execution_count": null,
   "metadata": {},
   "outputs": [],
   "source": [
    "# Load the data\n",
    "\n",
    "\n"
   ]
  },
  {
   "cell_type": "code",
   "execution_count": null,
   "metadata": {},
   "outputs": [],
   "source": [
    "# Construct a single raster for each year\n",
    "\n",
    "\n"
   ]
  },
  {
   "cell_type": "code",
   "execution_count": null,
   "metadata": {},
   "outputs": [],
   "source": [
    "# Find overlap\n",
    "\n"
   ]
  },
  {
   "cell_type": "code",
   "execution_count": null,
   "metadata": {},
   "outputs": [],
   "source": [
    "# Subtract rasters\n",
    "\n"
   ]
  },
  {
   "cell_type": "code",
   "execution_count": null,
   "metadata": {},
   "outputs": [],
   "source": [
    "# Plot the result\n",
    "# (use the imported colormaps)\n",
    "\n",
    "\n",
    "\n"
   ]
  },
  {
   "cell_type": "code",
   "execution_count": null,
   "metadata": {},
   "outputs": [],
   "source": [
    "# Export to a new raster\n",
    "\n"
   ]
  }
 ]
}