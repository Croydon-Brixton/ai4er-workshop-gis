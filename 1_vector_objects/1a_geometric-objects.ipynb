{
 "cells": [
  {
   "cell_type": "markdown",
   "metadata": {},
   "source": [
    "# Part 1 - Shapely and geometric objects\n",
    "\n",
    "In this lesson, you will learn how to create and manipulate geometries in Python using the [Shapely Python Package (documentation)](https://shapely.readthedocs.io/en/stable/manual.html).\n",
    "\n",
    "\n"
   ]
  },
  {
   "cell_type": "code",
   "execution_count": 377,
   "metadata": {},
   "outputs": [],
   "source": [
    "import shapely\n",
    "\n",
    "from shapely.geometry import Point, LineString, LinearRing, Polygon\n"
   ]
  },
  {
   "cell_type": "code",
   "execution_count": 216,
   "metadata": {
    "scrolled": true
   },
   "outputs": [],
   "source": [
    "point = Point(2.2, 4.2)\n",
    "line = LineString([point,  (7.2, 0.5), (9.3, 2.45)])\n",
    "poly = Polygon([point, (7.2, 0.5), (9.3, 2.45)])"
   ]
  },
  {
   "cell_type": "code",
   "execution_count": 158,
   "metadata": {},
   "outputs": [
    {
     "data": {
      "image/svg+xml": [
       "<svg xmlns=\"http://www.w3.org/2000/svg\" xmlns:xlink=\"http://www.w3.org/1999/xlink\" width=\"100.0\" height=\"100.0\" viewBox=\"1.2000000000000002 3.2 2.0 2.0\" preserveAspectRatio=\"xMinYMin meet\"><g transform=\"matrix(1,0,0,-1,0,8.4)\"><circle cx=\"2.2\" cy=\"4.2\" r=\"0.06\" stroke=\"#555555\" stroke-width=\"0.02\" fill=\"#66cc99\" opacity=\"0.6\" /></g></svg>"
      ],
      "text/plain": [
       "<shapely.geometry.point.Point at 0x7f48b2717f10>"
      ]
     },
     "metadata": {},
     "output_type": "display_data"
    },
    {
     "name": "stdout",
     "output_type": "stream",
     "text": [
      "POINT (2.2 4.2)\n",
      "<class 'shapely.geometry.point.Point'>\n",
      "Point\n",
      "2.2 4.2\n",
      "(2.2, 4.2)\n"
     ]
    }
   ],
   "source": [
    "display(point)\n",
    "print(point)\n",
    "print(type(point))\n",
    "print(point.geom_type)\n",
    "print(point.x, point.y)\n",
    "print(point.coords[0])"
   ]
  },
  {
   "cell_type": "markdown",
   "metadata": {},
   "source": [
    "The point object is represented in a specific format based on\n",
    "[GEOS](https://trac.osgeo.org/geos) C++ library that is one of the standard libraries behind various Geographic Information Systems. It runs under the hood e.g. in [QGIS](http://www.qgis.org/en/site/). "
   ]
  },
  {
   "cell_type": "code",
   "execution_count": 159,
   "metadata": {},
   "outputs": [
    {
     "data": {
      "image/svg+xml": [
       "<svg xmlns=\"http://www.w3.org/2000/svg\" xmlns:xlink=\"http://www.w3.org/1999/xlink\" width=\"100.0\" height=\"100.0\" viewBox=\"1.9160000000000001 0.21599999999999997 7.668000000000001 4.268\" preserveAspectRatio=\"xMinYMin meet\"><g transform=\"matrix(1,0,0,-1,0,4.7)\"><polyline fill=\"none\" stroke=\"#66cc99\" stroke-width=\"0.15336000000000002\" points=\"2.2,4.2 7.2,0.5 9.3,2.45\" opacity=\"0.8\" /></g></svg>"
      ],
      "text/plain": [
       "<shapely.geometry.linestring.LineString at 0x7f48b27177f0>"
      ]
     },
     "metadata": {},
     "output_type": "display_data"
    },
    {
     "name": "stdout",
     "output_type": "stream",
     "text": [
      "LINESTRING (2.2 4.2, 7.2 0.5, 9.300000000000001 2.45)\n",
      "Length:  9.085874592215015\n",
      "Area:  0.0\n",
      "Centroid:  POINT (5.819693884412717 2.074019112996865)\n",
      "Boundary:  MULTIPOINT (2.2 4.2, 9.300000000000001 2.45)\n",
      "XY array: (array('d', [2.2, 7.2, 9.3]), array('d', [4.2, 0.5, 2.45]))\n"
     ]
    }
   ],
   "source": [
    "display(line)\n",
    "print(line)\n",
    "print(\"Length: \",  line.length)\n",
    "print(\"Area: \",    line.area)\n",
    "print(\"Centroid: \",line.centroid)\n",
    "print(\"Boundary: \",line.boundary)\n",
    "print(\"XY array:\", line.xy)"
   ]
  },
  {
   "cell_type": "code",
   "execution_count": 276,
   "metadata": {
    "scrolled": false
   },
   "outputs": [
    {
     "data": {
      "image/svg+xml": [
       "<svg xmlns=\"http://www.w3.org/2000/svg\" xmlns:xlink=\"http://www.w3.org/1999/xlink\" width=\"100.0\" height=\"100.0\" viewBox=\"1.9160000000000001 0.21599999999999997 7.668000000000001 4.268\" preserveAspectRatio=\"xMinYMin meet\"><g transform=\"matrix(1,0,0,-1,0,4.7)\"><path fill-rule=\"evenodd\" fill=\"#66cc99\" stroke=\"#555555\" stroke-width=\"0.15336000000000002\" opacity=\"0.6\" d=\"M 2.2,4.2 L 7.2,0.5 L 9.3,2.45 L 2.2,4.2 z\" /></g></svg>"
      ],
      "text/plain": [
       "<shapely.geometry.polygon.Polygon at 0x7f48b154f610>"
      ]
     },
     "metadata": {},
     "output_type": "display_data"
    },
    {
     "name": "stdout",
     "output_type": "stream",
     "text": [
      "Polygon centroid:  POINT (6.233333333333333 2.383333333333333)\n",
      "Polygon Area:  8.760000000000002\n",
      "Polygon circumference:  16.398363908446527\n",
      "Polygon Bounding Box:  (2.2, 0.5, 9.3, 4.2)\n",
      "Polygon Exterior:  LINEARRING (2.2 4.2, 7.2 0.5, 9.300000000000001 2.45, 2.2 4.2)\n",
      "Polygon Exterior Length:  16.398363908446527\n",
      "Polygon Interior:  []\n"
     ]
    }
   ],
   "source": [
    "# Print the outputs\n",
    "display(poly)\n",
    "print(\"Polygon centroid: \", poly.centroid)\n",
    "print(\"Polygon Area: \",  poly.area)\n",
    "print(\"Polygon circumference: \",  poly.length)\n",
    "print(\"Polygon Bounding Box: \", poly.bounds)\n",
    "print(\"Polygon Exterior: \", poly.exterior)\n",
    "print(\"Polygon Exterior Length: \", poly.exterior.length)\n",
    "print(\"Polygon Interior: \", list(poly.interiors))"
   ]
  },
  {
   "cell_type": "code",
   "execution_count": 378,
   "metadata": {},
   "outputs": [
    {
     "data": {
      "image/svg+xml": [
       "<svg xmlns=\"http://www.w3.org/2000/svg\" xmlns:xlink=\"http://www.w3.org/1999/xlink\" width=\"100.0\" height=\"100.0\" viewBox=\"-0.4 -0.4 10.8 10.8\" preserveAspectRatio=\"xMinYMin meet\"><g transform=\"matrix(1,0,0,-1,0,10.0)\"><path fill-rule=\"evenodd\" fill=\"#66cc99\" stroke=\"#555555\" stroke-width=\"0.21600000000000003\" opacity=\"0.6\" d=\"M 10.0,0.0 L 10.0,10.0 L 0.0,10.0 L 0.0,0.0 L 10.0,0.0 z M 2.2,4.2 L 7.2,0.5 L 9.3,2.45 L 2.2,4.2 z\" /></g></svg>"
      ],
      "text/plain": [
       "<shapely.geometry.polygon.Polygon at 0x7f48b08a3ac0>"
      ]
     },
     "metadata": {},
     "output_type": "display_data"
    },
    {
     "data": {
      "text/plain": [
       "91.24"
      ]
     },
     "execution_count": 378,
     "metadata": {},
     "output_type": "execute_result"
    }
   ],
   "source": [
    "# Let's create the exterior of the polygon with holes\n",
    "exterior = shapely.geometry.box(0,0,10,10).boundary\n",
    "\n",
    "# Let's create a hole --> remember there can be multiple holes, thus we need to have a list of hole(s). \n",
    "# Here we have just one.\n",
    "hole = [poly.boundary]\n",
    "\n",
    "# Create the Polygon\n",
    "poly_hole = Polygon(shell=exterior, holes=hole)\n",
    "\n",
    "# Print object definition\n",
    "display(poly_hole)\n",
    "poly_hole.area"
   ]
  },
  {
   "cell_type": "code",
   "execution_count": null,
   "metadata": {},
   "outputs": [],
   "source": [
    "\n",
    "# Import constructors for creating geometry collections\n",
    "from shapely.geometry import MultiPoint, MultiLineString\n",
    "from shapely.geometry import MultiPolygon, GeometryCollection\n"
   ]
  },
  {
   "cell_type": "code",
   "execution_count": 296,
   "metadata": {},
   "outputs": [
    {
     "data": {
      "image/svg+xml": [
       "<svg xmlns=\"http://www.w3.org/2000/svg\" xmlns:xlink=\"http://www.w3.org/1999/xlink\" width=\"100.0\" height=\"100.0\" viewBox=\"-0.4 -0.4 10.8 10.8\" preserveAspectRatio=\"xMinYMin meet\"><g transform=\"matrix(1,0,0,-1,0,10.0)\"><g><circle cx=\"2.2\" cy=\"4.2\" r=\"0.32400000000000007\" stroke=\"#555555\" stroke-width=\"0.10800000000000001\" fill=\"#66cc99\" opacity=\"0.6\" /><polyline fill=\"none\" stroke=\"#66cc99\" stroke-width=\"0.21600000000000003\" points=\"2.2,4.2 7.2,0.5 9.3,2.45\" opacity=\"0.8\" /><path fill-rule=\"evenodd\" fill=\"#66cc99\" stroke=\"#555555\" stroke-width=\"0.21600000000000003\" opacity=\"0.6\" d=\"M 2.2,4.2 L 7.2,0.5 L 9.3,2.45 L 2.2,4.2 z\" /><path fill-rule=\"evenodd\" fill=\"#66cc99\" stroke=\"#555555\" stroke-width=\"0.21600000000000003\" opacity=\"0.6\" d=\"M 0.0,0.0 L 0.0,10.0 L 10.0,10.0 L 10.0,0.0 L 0.0,0.0 z M 2.2,4.2 L 7.2,0.5 L 9.3,2.45 L 2.2,4.2 z\" /></g></g></svg>"
      ],
      "text/plain": [
       "<shapely.geometry.collection.GeometryCollection at 0x7f48b23b9ca0>"
      ]
     },
     "execution_count": 296,
     "metadata": {},
     "output_type": "execute_result"
    }
   ],
   "source": [
    "GeometryCollection([point,line,poly,poly_hole])"
   ]
  },
  {
   "cell_type": "code",
   "execution_count": 371,
   "metadata": {},
   "outputs": [
    {
     "data": {
      "image/svg+xml": [
       "<svg xmlns=\"http://www.w3.org/2000/svg\" xmlns:xlink=\"http://www.w3.org/1999/xlink\" width=\"100.0\" height=\"100.0\" viewBox=\"-1.8 -1.8 25.6 48.599999999999994\" preserveAspectRatio=\"xMinYMin meet\"><g transform=\"matrix(1,0,0,-1,0,45.0)\"><g><path fill-rule=\"evenodd\" fill=\"#66cc99\" stroke=\"#555555\" stroke-width=\"0.9719999999999999\" opacity=\"0.6\" d=\"M 0.0,0.0 L 0.0,10.0 L 10.0,10.0 L 10.0,0.0 L 0.0,0.0 z M 2.2,4.2 L 7.2,0.5 L 9.3,2.45 L 2.2,4.2 z\" /><path fill-rule=\"evenodd\" fill=\"#66cc99\" stroke=\"#555555\" stroke-width=\"0.9719999999999999\" opacity=\"0.6\" d=\"M 12.0,15.0 L 2.0,25.0 L 12.0,45.0 L 22.0,35.0 L 12.0,15.0 z M 10.0,23.6 L 18.7,29.9 L 18.85,36.05 L 10.0,23.6 z\" /></g></g></svg>"
      ],
      "text/plain": [
       "<shapely.geometry.collection.GeometryCollection at 0x7f48b134ce80>"
      ]
     },
     "execution_count": 371,
     "metadata": {},
     "output_type": "execute_result"
    }
   ],
   "source": [
    "coll = GeometryCollection([\n",
    "    poly_hole,\n",
    "#     shapely.affinity.translate(poly_hole,7,2),\n",
    "#     shapely.affinity.scale(poly_hole,0.5,0.5),\n",
    "#     shapely.affinity.rotate(poly_hole, 45,'center'),\n",
    "#     shapely.affinity.skew(poly_hole,30)\n",
    "#     shapely.affinity.affine_transform(poly_hole,[1,0,0,1,12,15]),\n",
    "#     shapely.affinity.affine_transform(poly_hole,[2,0,0,1.5,0,0]),\n",
    "#     shapely.affinity.affine_transform(poly_hole,[1,1,0,1,0,0]),\n",
    "    shapely.affinity.affine_transform(poly_hole,[1,-1,2,1,12,15]),\n",
    "])\n",
    "coll"
   ]
  },
  {
   "cell_type": "code",
   "execution_count": 345,
   "metadata": {},
   "outputs": [
    {
     "data": {
      "image/svg+xml": [
       "<svg xmlns=\"http://www.w3.org/2000/svg\" xmlns:xlink=\"http://www.w3.org/1999/xlink\" width=\"100.0\" height=\"100.0\" viewBox=\"-1.8 -1.8 25.6 48.599999999999994\" preserveAspectRatio=\"xMinYMin meet\"><g transform=\"matrix(1,0,0,-1,0,45.0)\"><g><g><path fill-rule=\"evenodd\" fill=\"#66cc99\" stroke=\"#555555\" stroke-width=\"0.9719999999999999\" opacity=\"0.6\" d=\"M 0.0,0.0 L 0.0,10.0 L 10.0,10.0 L 10.0,0.0 L 0.0,0.0 z M 2.2,4.2 L 7.2,0.5 L 9.3,2.45 L 2.2,4.2 z\" /><path fill-rule=\"evenodd\" fill=\"#66cc99\" stroke=\"#555555\" stroke-width=\"0.9719999999999999\" opacity=\"0.6\" d=\"M 12.0,15.0 L 2.0,25.0 L 12.0,45.0 L 22.0,35.0 L 12.0,15.0 z M 10.0,23.6 L 18.7,29.9 L 18.85,36.05 L 10.0,23.6 z\" /></g><path fill-rule=\"evenodd\" fill=\"#66cc99\" stroke=\"#555555\" stroke-width=\"0.9719999999999999\" opacity=\"0.6\" d=\"M 0.0,0.0 L 0.0,10.0 L 2.0,25.0 L 12.0,45.0 L 22.0,35.0 L 10.0,0.0 L 0.0,0.0 z\" /></g></g></svg>"
      ],
      "text/plain": [
       "<shapely.geometry.collection.GeometryCollection at 0x7f48b289da30>"
      ]
     },
     "execution_count": 345,
     "metadata": {},
     "output_type": "execute_result"
    }
   ],
   "source": [
    "GeometryCollection([coll,\n",
    "                    coll.convex_hull\n",
    "                   ])"
   ]
  },
  {
   "cell_type": "code",
   "execution_count": 346,
   "metadata": {
    "scrolled": true
   },
   "outputs": [
    {
     "data": {
      "image/svg+xml": [
       "<svg xmlns=\"http://www.w3.org/2000/svg\" xmlns:xlink=\"http://www.w3.org/1999/xlink\" width=\"100.0\" height=\"100.0\" viewBox=\"-1.8 -1.8 25.6 48.599999999999994\" preserveAspectRatio=\"xMinYMin meet\"><g transform=\"matrix(1,0,0,-1,0,45.0)\"><g><g><path fill-rule=\"evenodd\" fill=\"#66cc99\" stroke=\"#555555\" stroke-width=\"0.9719999999999999\" opacity=\"0.6\" d=\"M 0.0,0.0 L 0.0,10.0 L 10.0,10.0 L 10.0,0.0 L 0.0,0.0 z M 2.2,4.2 L 7.2,0.5 L 9.3,2.45 L 2.2,4.2 z\" /><path fill-rule=\"evenodd\" fill=\"#66cc99\" stroke=\"#555555\" stroke-width=\"0.9719999999999999\" opacity=\"0.6\" d=\"M 12.0,15.0 L 2.0,25.0 L 12.0,45.0 L 22.0,35.0 L 12.0,15.0 z M 10.0,23.6 L 18.7,29.9 L 18.85,36.05 L 10.0,23.6 z\" /></g><path fill-rule=\"evenodd\" fill=\"#66cc99\" stroke=\"#555555\" stroke-width=\"0.9719999999999999\" opacity=\"0.6\" d=\"M 0.0,0.0 L 22.0,0.0 L 22.0,45.0 L 0.0,45.0 L 0.0,0.0 z\" /></g></g></svg>"
      ],
      "text/plain": [
       "<shapely.geometry.collection.GeometryCollection at 0x7f48b159c2e0>"
      ]
     },
     "execution_count": 346,
     "metadata": {},
     "output_type": "execute_result"
    }
   ],
   "source": [
    "GeometryCollection([coll,\n",
    "                    coll.envelope\n",
    "                   ])"
   ]
  },
  {
   "cell_type": "code",
   "execution_count": 347,
   "metadata": {
    "scrolled": true
   },
   "outputs": [
    {
     "data": {
      "image/svg+xml": [
       "<svg xmlns=\"http://www.w3.org/2000/svg\" xmlns:xlink=\"http://www.w3.org/1999/xlink\" width=\"100.0\" height=\"100.0\" viewBox=\"-7.841490138787437 -5.029218407596787 33.81884587289993 52.954711468224986\" preserveAspectRatio=\"xMinYMin meet\"><g transform=\"matrix(1,0,0,-1,0,42.89627465303141)\"><g><g><path fill-rule=\"evenodd\" fill=\"#66cc99\" stroke=\"#555555\" stroke-width=\"1.0590942293644998\" opacity=\"0.6\" d=\"M 0.0,0.0 L 0.0,10.0 L 10.0,10.0 L 10.0,0.0 L 0.0,0.0 z M 2.2,4.2 L 7.2,0.5 L 9.3,2.45 L 2.2,4.2 z\" /><path fill-rule=\"evenodd\" fill=\"#66cc99\" stroke=\"#555555\" stroke-width=\"1.0590942293644998\" opacity=\"0.6\" d=\"M 12.0,15.0 L 2.0,25.0 L 12.0,45.0 L 22.0,35.0 L 12.0,15.0 z M 10.0,23.6 L 18.7,29.9 L 18.85,36.05 L 10.0,23.6 z\" /></g><path fill-rule=\"evenodd\" fill=\"#66cc99\" stroke=\"#555555\" stroke-width=\"1.0590942293644998\" opacity=\"0.6\" d=\"M 9.187728268809352,45.96420745069394 L -5.880204528853178,2.0160701241782326 L 8.948137326515704,-3.0679327976625275 L 24.016070124178235,40.88020452885318 L 9.187728268809352,45.96420745069394 z\" /></g></g></svg>"
      ],
      "text/plain": [
       "<shapely.geometry.collection.GeometryCollection at 0x7f48b1483b50>"
      ]
     },
     "execution_count": 347,
     "metadata": {},
     "output_type": "execute_result"
    }
   ],
   "source": [
    "GeometryCollection([coll,\n",
    "                    coll.minimum_rotated_rectangle\n",
    "                   ])\n"
   ]
  },
  {
   "cell_type": "code",
   "execution_count": 369,
   "metadata": {},
   "outputs": [
    {
     "data": {
      "image/svg+xml": [
       "<svg xmlns=\"http://www.w3.org/2000/svg\" xmlns:xlink=\"http://www.w3.org/1999/xlink\" width=\"100.0\" height=\"100.0\" viewBox=\"-0.9 -1.4 24.299999999999997 23.799999999999997\" preserveAspectRatio=\"xMinYMin meet\"><g transform=\"matrix(1,0,0,-1,0,21.0)\"><g><path fill-rule=\"evenodd\" fill=\"#66cc99\" stroke=\"#555555\" stroke-width=\"0.48599999999999993\" opacity=\"0.6\" d=\"M 0.0,0.0 L 0.0,10.0 L 10.0,10.0 L 10.0,0.0 L 0.0,0.0 z M 2.2,4.2 L 7.2,0.5 L 9.3,2.45 L 2.2,4.2 z\" /><path fill-rule=\"evenodd\" fill=\"#66cc99\" stroke=\"#555555\" stroke-width=\"0.48599999999999993\" opacity=\"0.6\" d=\"M 12.0,-0.5 L 11.950991429835216,-0.49759236333609813 L 11.902454838991932,-0.49039264020161466 L 11.854857661372765,-0.47847016786610364 L 11.808658283817453,-0.4619397662556424 L 11.764301631587,-0.4409606321741764 L 11.722214883490198,-0.4157348061512714 L 11.682803357918177,-0.3865052266813675 L 11.646446609406725,-0.3535533905932726 L 11.61349477331863,-0.31719664208182163 L 11.584265193848726,-0.27778511650980003 L 11.559039367825822,-0.23569836841299802 L 11.538060233744357,-0.1913417161825442 L 11.521529832133895,-0.14514233862723064 L 11.509607359798384,-0.09754516100806375 L 11.502407636663902,-0.04900857016478007 L 11.5,0.0 L 11.5,10.0 L 11.502407636663902,10.04900857016478 L 11.509607359798384,10.097545161008064 L 11.521529832133895,10.145142338627231 L 11.538060233744357,10.191341716182546 L 11.559039367825822,10.235698368412999 L 11.584265193848728,10.2777851165098 L 11.613494773318632,10.317196642081823 L 11.646446609406727,10.353553390593273 L 11.682803357918177,10.386505226681368 L 11.7222148834902,10.415734806151272 L 11.764301631587001,10.440960632174178 L 11.808658283817454,10.461939766255643 L 11.854857661372769,10.478470167866105 L 11.902454838991936,10.490392640201616 L 11.95099142983522,10.497592363336098 L 12.0,10.5 L 22.0,10.5 L 22.04900857016478,10.497592363336098 L 22.097545161008064,10.490392640201616 L 22.14514233862723,10.478470167866105 L 22.191341716182546,10.461939766255643 L 22.235698368412997,10.440960632174178 L 22.2777851165098,10.415734806151272 L 22.317196642081825,10.386505226681368 L 22.353553390593273,10.353553390593273 L 22.38650522668137,10.317196642081823 L 22.41573480615127,10.2777851165098 L 22.44096063217418,10.235698368412999 L 22.461939766255643,10.191341716182546 L 22.478470167866107,10.145142338627231 L 22.490392640201616,10.097545161008064 L 22.497592363336096,10.04900857016478 L 22.5,10.0 L 22.5,0.0 L 22.497592363336096,-0.0490085701647803 L 22.490392640201616,-0.09754516100806412 L 22.478470167866107,-0.14514233862723117 L 22.461939766255643,-0.1913417161825449 L 22.44096063217418,-0.23569836841299882 L 22.41573480615127,-0.2777851165098011 L 22.38650522668137,-0.31719664208182274 L 22.353553390593273,-0.35355339059327373 L 22.317196642081825,-0.3865052266813685 L 22.2777851165098,-0.4157348061512726 L 22.235698368412997,-0.44096063217417747 L 22.191341716182546,-0.46193976625564337 L 22.14514233862723,-0.47847016786610447 L 22.097545161008064,-0.4903926402016152 L 22.04900857016478,-0.4975923633360984 L 22.0,-0.5 L 12.0,-0.5 z M 16.50380592908094,3.1171964740834652 L 19.163856741231832,1.1487588730918028 L 20.28107808233521,2.186178689830652 L 16.50380592908094,3.1171964740834652 z\" /><g><path fill-rule=\"evenodd\" fill=\"#66cc99\" stroke=\"#555555\" stroke-width=\"0.48599999999999993\" opacity=\"0.6\" d=\"M 0.5,12.5 L 0.5,21.5 L 9.5,21.5 L 9.5,14.907756681091119 L 9.466488871842667,14.921467343039321 L 9.419658294482259,14.935470794756592 L 2.3196582944822586,16.685470794756593 L 2.27154553129464,16.694854763493055 L 2.2227451019796796,16.699482392418325 L 2.1737260561290475,16.699309202672517 L 2.124959544586357,16.694336858884014 L 2.0769142909396487,16.68461315316973 L 2.030052086343656,16.670231545777032 L 1.9848233509737596,16.651330266782363 L 1.941662804773102,16.628090987480817 L 1.900985289103859,16.600737074236584 L 1.8631817794632302,16.569531441577634 L 1.8286156275882735,16.53477402516974 L 1.7976190690689264,16.49679889895861 L 1.7704900300365956,16.455971064188972 L 1.747489263621104,16.4126829411632 L 1.7288378436991945,16.36735059745927 L 1.7147150400236402,16.32040974886089 L 1.705256595156346,16.272311571437136 L 1.7005534197668526,16.223518365024255 L 1.7006507188364883,16.17449910979036 L 1.7055475571667411,16.12572495859158 L 1.7151968683680006,16.077664708445166 L 1.7295059072422752,16.03078029464603 L 1.7483371412117696,15.985522350835238 L 1.7715095722252763,15.942325877695424 L 1.7988004764367647,15.901606061903676 L 1.8299475449350944,15.86375428552852 L 1.864651404949041,15.82913436422695 L 1.902578497294853,15.79807905039845 L 6.359442078914379,12.5 L 0.5,12.5 z\" /><path fill-rule=\"evenodd\" fill=\"#66cc99\" stroke=\"#555555\" stroke-width=\"0.48599999999999993\" opacity=\"0.6\" d=\"M 9.5,13.953393815194898 L 9.5,12.5 L 7.934806660559339,12.5 L 9.5,13.953393815194898 z\" /></g><path fill-rule=\"evenodd\" fill=\"#66cc99\" stroke=\"#555555\" stroke-width=\"0.48599999999999993\" opacity=\"0.6\" d=\"M 20.0,17.0 L 19.985554180016592,16.70594857901132 L 19.94235584120969,16.414729033951616 L 19.870821007196625,16.129145968236614 L 19.77163859753386,15.851949702904733 L 19.645763793045067,15.585809789522008 L 19.49440883690764,15.333289300941194 L 19.31903136008821,15.096820147509066 L 19.121320343559645,14.87867965644036 L 18.90317985249094,14.680968639911791 L 18.66671069905881,14.505591163092365 L 18.414190210477997,14.354236206954937 L 18.148050297095274,14.228361402466142 L 17.87085403176339,14.129178992803375 L 17.58527096604839,14.05764415879031 L 17.294051420988687,14.01444581998341 L 17.000000000000004,14.0 L 16.705948579011324,14.01444581998341 L 16.41472903395162,14.057644158790307 L 16.129145968236617,14.129178992803372 L 15.851949702904736,14.228361402466138 L 15.585809789522013,14.354236206954932 L 15.333289300941198,14.505591163092362 L 15.096820147509069,14.680968639911784 L 14.878679656440362,14.878679656440353 L 14.680968639911793,15.096820147509057 L 14.505591163092369,15.333289300941187 L 14.354236206954939,15.585809789522 L 14.228361402466142,15.851949702904722 L 14.129178992803375,16.129145968236603 L 14.05764415879031,16.414729033951605 L 14.014445819983411,16.70594857901131 L 14.0,16.99999999999999 L 14.014445819983408,17.294051420988673 L 14.057644158790307,17.585270966048377 L 14.129178992803372,17.87085403176338 L 14.228361402466135,18.14805029709526 L 14.35423620695493,18.414190210477983 L 14.505591163092358,18.666710699058797 L 14.680968639911782,18.90317985249093 L 14.87867965644035,19.121320343559635 L 15.096820147509053,19.319031360088204 L 15.333289300941182,19.494408836907628 L 15.585809789521996,19.64576379304506 L 15.851949702904719,19.771638597533855 L 16.1291459682366,19.870821007196625 L 16.414729033951602,19.94235584120969 L 16.705948579011302,19.98555418001659 L 16.999999999999986,20.0 L 17.294051420988666,19.985554180016592 L 17.58527096604837,19.942355841209697 L 17.870854031763372,19.870821007196632 L 18.148050297095253,19.771638597533865 L 18.41419021047798,19.645763793045074 L 18.666710699058793,19.494408836907645 L 18.903179852490926,19.31903136008822 L 19.12132034355963,19.121320343559653 L 19.3190313600882,18.90317985249095 L 19.494408836907624,18.66671069905882 L 19.645763793045056,18.414190210478008 L 19.77163859753385,18.148050297095285 L 19.87082100719662,17.870854031763407 L 19.94235584120969,17.585270966048405 L 19.98555418001659,17.2940514209887 L 20.0,17.0 z\" /></g></g></svg>"
      ],
      "text/plain": [
       "<shapely.geometry.collection.GeometryCollection at 0x7f48b0fa0bb0>"
      ]
     },
     "execution_count": 369,
     "metadata": {},
     "output_type": "execute_result"
    }
   ],
   "source": [
    "GeometryCollection([poly_hole,\n",
    "                   shapely.affinity.translate(\n",
    "                       poly_hole.buffer(0.5), # buffer +\n",
    "                       12,0),\n",
    "                   shapely.affinity.translate(\n",
    "                       poly_hole.buffer(-0.5), # buffer -\n",
    "                       0,12),\n",
    "                    shapely.affinity.translate(\n",
    "                        Point(5,5).buffer(3),\n",
    "                        12,12)\n",
    "                   ])"
   ]
  },
  {
   "cell_type": "code",
   "execution_count": 372,
   "metadata": {},
   "outputs": [
    {
     "data": {
      "image/svg+xml": [
       "<svg xmlns=\"http://www.w3.org/2000/svg\" xmlns:xlink=\"http://www.w3.org/1999/xlink\" width=\"100.0\" height=\"100.0\" viewBox=\"-1.8 -1.8 25.6 48.599999999999994\" preserveAspectRatio=\"xMinYMin meet\"><g transform=\"matrix(1,0,0,-1,0,45.0)\"><g><path fill-rule=\"evenodd\" fill=\"#66cc99\" stroke=\"#555555\" stroke-width=\"0.9719999999999999\" opacity=\"0.6\" d=\"M 0.0,0.0 L 0.0,10.0 L 10.0,10.0 L 10.0,0.0 L 0.0,0.0 z M 2.2,4.2 L 7.2,0.5 L 9.3,2.45 L 2.2,4.2 z\" /><path fill-rule=\"evenodd\" fill=\"#66cc99\" stroke=\"#555555\" stroke-width=\"0.9719999999999999\" opacity=\"0.6\" d=\"M 12.0,15.0 L 2.0,25.0 L 12.0,45.0 L 22.0,35.0 L 12.0,15.0 z M 10.0,23.6 L 18.7,29.9 L 18.85,36.05 L 10.0,23.6 z\" /></g></g></svg>"
      ],
      "text/plain": [
       "<shapely.geometry.collection.GeometryCollection at 0x7f48b134ce80>"
      ]
     },
     "metadata": {},
     "output_type": "display_data"
    },
    {
     "name": "stdout",
     "output_type": "stream",
     "text": [
      "5.385164807134504\n",
      "35.05709628591621\n"
     ]
    }
   ],
   "source": [
    "display(coll)\n",
    "poly1,poly2 = tuple(coll)\n",
    "print(poly1.distance(poly2))\n",
    "print(poly1.hausdorff_distance(poly2))"
   ]
  },
  {
   "cell_type": "markdown",
   "metadata": {},
   "source": [
    "## Spatial data model\n",
    "\n",
    "![Spatial data model](img/SpatialDataModel.PNG)\n",
    "\n",
    "*Fundamental geometric objects that can be used in Python with* [Shapely](https://shapely.readthedocs.io/en/stable/manual.html).\n",
    "\n",
    "The most fundamental geometric objects are `Points`, `Lines` and `Polygons` which are the basic ingredients when working with spatial data in vector format. \n",
    "Python has a specific module called [Shapely](https://shapely.readthedocs.io/en/stable/manual.html) for doing various geometric operations. Basic knowledge of using Shapely is fundamental for understanding how geometries are stored and handled in GeoPandas.\n",
    "\n",
    "**Geometric objects consist of coordinate tuples where:**\n",
    "\n",
    "-  `Point` -object represents a single point in space. Points can be either two-dimensional (x, y) or three dimensional (x, y, z).\n",
    "-  `LineString` -object (i.e. a line) represents a sequence of points joined together to form a line. Hence, a line consist of a list of at least two coordinate tuples\n",
    "-  `Polygon` -object represents a filled area that consists of a list of at least three coordinate tuples that forms the outerior ring and a (possible) list of hole polygons.\n",
    "\n",
    "**It is also possible to have a collection of geometric objects (e.g. Polygons with multiple parts):**\n",
    "\n",
    "-  `MultiPoint` -object represents a collection of points and consists of a list of coordinate-tuples\n",
    "-  `MultiLineString` -object represents a collection of lines and consists of a list of line-like sequences\n",
    "-  `MultiPolygon` -object represents a collection of polygons that consists of a list of polygon-like sequences that construct from exterior ring and (possible) hole list tuples\n",
    "\n",
    "**Useful attributes and methods in Shapely include:**\n",
    "\n",
    "-  Creating lines and polygons based on a collection of point objects.\n",
    "-  Calculating areas/length/bounds etc. of input geometries\n",
    "-  Conducting geometric operations based on the input geometries such as `union`, `difference`, `distance` etc.\n",
    "-  Conducting spatial queries between geometries such as `intersects`, `touches`, `crosses`, `within` etc.\n"
   ]
  }
 ],
 "metadata": {
  "anaconda-cloud": {},
  "kernelspec": {
   "display_name": "Python 3.8.8 64-bit ('ai4er-workshop-gis': conda)",
   "language": "python",
   "name": "python38864bitai4erworkshopgisconda3382785939a84ea288fcc951f054071c"
  },
  "language_info": {
   "codemirror_mode": {
    "name": "ipython",
    "version": 3
   },
   "file_extension": ".py",
   "mimetype": "text/x-python",
   "name": "python",
   "nbconvert_exporter": "python",
   "pygments_lexer": "ipython3",
   "version": "3.8.8-final"
  }
 },
 "nbformat": 4,
 "nbformat_minor": 4
}