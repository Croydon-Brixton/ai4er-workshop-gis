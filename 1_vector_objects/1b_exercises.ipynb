{
 "metadata": {
  "language_info": {
   "codemirror_mode": {
    "name": "ipython",
    "version": 3
   },
   "file_extension": ".py",
   "mimetype": "text/x-python",
   "name": "python",
   "nbconvert_exporter": "python",
   "pygments_lexer": "ipython3",
   "version": "3.8.8-final"
  },
  "orig_nbformat": 2,
  "kernelspec": {
   "name": "python38864bitai4erworkshopgisconda3382785939a84ea288fcc951f054071c",
   "display_name": "Python 3.8.8 64-bit ('ai4er-workshop-gis': conda)",
   "language": "python"
  }
 },
 "nbformat": 4,
 "nbformat_minor": 2,
 "cells": [
  {
   "source": [
    "# Part 1 - Exercises"
   ],
   "cell_type": "markdown",
   "metadata": {}
  },
  {
   "source": [
    "We will now try to implement some descriptors that can be used for polygon shape analysis and measurement.\n",
    "\n",
    "Their definition can be found in a presentation at the following link:\n",
    "[Shape Analysis & Measurement](http://www.cyto.purdue.edu/cdroms/micro2/content/education/wirth10.pdf)"
   ],
   "cell_type": "markdown",
   "metadata": {}
  },
  {
   "cell_type": "code",
   "execution_count": null,
   "metadata": {},
   "outputs": [],
   "source": [
    "import shapely\n",
    "import shapely.wkt\n",
    "from shapely.geometry import Polygon"
   ]
  },
  {
   "source": [
    "### Write the folowing functions\n",
    "They should work on arbitrary Polygons"
   ],
   "cell_type": "markdown",
   "metadata": {}
  },
  {
   "cell_type": "code",
   "execution_count": null,
   "metadata": {},
   "outputs": [],
   "source": [
    "# pages 9-13\n",
    "def area_net(polygon):\n",
    "    val = None\n",
    "    return val\n",
    "\n",
    "def area_filled(polygon):\n",
    "    val = None\n",
    "    return val\n",
    "\n",
    "def area_convex(polygon):\n",
    "    val = None\n",
    "    return val\n",
    "\n",
    "def perimeter(polygon):\n",
    "    val = None\n",
    "    return val\n",
    "\n",
    "def perimeter_convex(polygon):\n",
    "    val = None\n",
    "    return val\n",
    "\n",
    "\n",
    "# page 21\n",
    "def compactness(polygon):\n",
    "    val = None\n",
    "    return val\n",
    "\n",
    "# page 30\n",
    "def circularity(polygon):\n",
    "    val = None\n",
    "    return val\n",
    "\n",
    "\n",
    "# page 33\n",
    "def convexity(polygon):\n",
    "    val = None\n",
    "    return val\n",
    "\n",
    "# page 41\n",
    "def solidity(polygon):\n",
    "    val = None\n",
    "    return val\n",
    "\n",
    "# page 23\n",
    "def elongation(polygon):\n",
    "    val = None\n",
    "    return val\n",
    "\n",
    "# page 52\n",
    "def euler_number(polygon):\n",
    "    val = None\n",
    "    return val\n"
   ]
  },
  {
   "cell_type": "code",
   "execution_count": null,
   "metadata": {},
   "outputs": [],
   "source": [
    "def print_descriptors(polygon):\n",
    "    print(\"Area (net): \",area_net(polygon))\n",
    "    print(\"Area (filled): \",area_filled(polygon))\n",
    "    print(\"Area (convex): \",area_convex(polygon))\n",
    "    print(\"Perimeter: \",perimeter(polygon))\n",
    "    print(\"Perimeter (convex): \",perimeter_convex(polygon))\n",
    "    print(\"Compactness: \",compactness(polygon))\n",
    "    print(\"Circularity: \",circularity(polygon))\n",
    "    print(\"Convexity: \",convexity(polygon))\n",
    "    print(\"Solidity: \",solidity(polygon))\n",
    "    print(\"Elongation: \",elongation(polygon))\n",
    "    print(\"Euler number: \",euler_number(polygon))\n"
   ]
  },
  {
   "cell_type": "code",
   "execution_count": null,
   "metadata": {},
   "outputs": [],
   "source": [
    "circle = shapely.geometry.Point(7,7).buffer(2)\n",
    "square = shapely.geometry.box(3,3,10,10)\n",
    "triangle = shapely.geometry.Polygon([(2.2, 4.2), (7.2, 0.5), (9.3, 2.45)])\n",
    "polygon1 = triangle.union(square)\n",
    "polygon2 = shapely.geometry.Polygon(shell=polygon1.boundary, holes=[circle.boundary])"
   ]
  },
  {
   "cell_type": "code",
   "execution_count": null,
   "metadata": {},
   "outputs": [],
   "source": [
    "tree=shapely.wkt.loads('POLYGON ((588211 547855.5, 588211 547855, 588210.5 547855, 588210.5 547854, 588210 547854, 588210 547853, 588209.5 547853, 588209.5 547852, 588209 547852, 588209 547851.5, 588209.5 547851.5, 588209.5 547851, 588210 547851, 588210 547849.5, 588209.5 547849.5, 588209.5 547849, 588209 547849, 588209 547848, 588208.5 547848, 588208.5 547847.5, 588208 547847.5, 588208 547844, 588207.5 547844, 588206.5 547844, 588206.5 547845, 588205.5 547845, 588205.5 547844.5, 588205 547844.5, 588204.5 547844.5, 588204.5 547844, 588204 547844, 588203.5 547844, 588203.5 547843.5, 588203 547843.5, 588201.5 547843.5, 588201.5 547841.5, 588201 547841.5, 588200.5 547841.5, 588200.5 547841, 588200 547841, 588199 547841, 588199 547840.5, 588198.5 547840.5, 588195.5 547840.5, 588195.5 547839.5, 588195 547839.5, 588195 547840, 588194.5 547840, 588194.5 547839.5, 588194 547839.5, 588194 547840, 588193.5 547840, 588193.5 547840.5, 588193 547840.5, 588193 547841, 588190 547841, 588190 547840.5, 588189.5 547840.5, 588189.5 547840, 588189 547840, 588189 547839, 588188.5 547839, 588188.5 547838.5, 588188 547838.5, 588188 547837, 588187.5 547837, 588187.5 547835, 588188 547835, 588188 547835.5, 588188.5 547835.5, 588188.5 547835, 588189 547835, 588189 547834.5, 588189.5 547834.5, 588189.5 547832.5, 588189 547832.5, 588189 547831, 588189.5 547831, 588189.5 547830.5, 588190 547830.5, 588190 547830, 588191 547830, 588191 547829.5, 588190.5 547829.5, 588189.5 547829.5, 588189.5 547830, 588189 547830, 588189 547829.5, 588188.5 547829.5, 588188.5 547828.5, 588188 547828.5, 588188 547826.5, 588187.5 547826.5, 588187 547826.5, 588187 547826, 588186.5 547826, 588186 547826, 588186 547825.5, 588185.5 547825.5, 588185.5 547825, 588186 547825, 588186 547824.5, 588186.5 547824.5, 588186.5 547824, 588187 547824, 588187 547823, 588186.5 547823, 588186.5 547822, 588187 547822, 588187 547821, 588187.5 547821, 588187.5 547820.5, 588188.5 547820.5, 588188.5 547820, 588189 547820, 588189 547819.5, 588189.5 547819.5, 588189.5 547819, 588189 547819, 588189 547818, 588189.5 547818, 588189.5 547816.5, 588190 547816.5, 588190 547816, 588192 547816, 588192 547815.5, 588192.5 547815.5, 588192.5 547816, 588196.5 547816, 588196.5 547815.5, 588197 547815.5, 588197 547815, 588198 547815, 588198 547815.5, 588198.5 547815.5, 588198.5 547815, 588199 547815, 588199 547816, 588199.5 547816, 588199.5 547816.5, 588200 547816.5, 588200 547817, 588200.5 547817, 588201 547817, 588201 547817.5, 588202 547817.5, 588202 547817, 588203 547817, 588203 547816.5, 588204.5 547816.5, 588204.5 547817, 588205 547817, 588205 547817.5, 588206 547817.5, 588206.5 547817.5, 588206.5 547818, 588207 547818, 588207 547818.5, 588207.5 547818.5, 588207.5 547819.5, 588209.5 547819.5, 588209.5 547819, 588210 547819, 588210 547818.5, 588210.5 547818.5, 588210.5 547818, 588211.5 547818, 588211.5 547817, 588212 547817, 588212 547816, 588212.5 547816, 588212.5 547817.5, 588212 547817.5, 588212 547818, 588212.5 547818, 588212.5 547818.5, 588213 547818.5, 588213 547819, 588213.5 547819, 588213.5 547819.5, 588220.5 547819.5, 588221 547819.5, 588221 547828.5, 588221.5 547828.5, 588221.5 547829, 588222 547829, 588222 547829.5, 588222.5 547829.5, 588222.5 547830, 588223 547830, 588223 547830.5, 588223.5 547830.5, 588223.5 547831, 588224 547831, 588224 547832, 588224.5 547832, 588224.5 547839.5, 588224 547839.5, 588224 547840, 588223.5 547840, 588223.5 547840.5, 588223 547840.5, 588223 547841, 588222.5 547841, 588222.5 547841.5, 588222 547841.5, 588222 547842, 588221.5 547842, 588221.5 547842.5, 588221 547842.5, 588221 547843, 588219 547843, 588219 547841.5, 588219.5 547841.5, 588219.5 547841, 588220.5 547841, 588220.5 547840, 588220 547840, 588219.5 547840, 588219.5 547840.5, 588219 547840.5, 588219 547841, 588218.5 547841, 588218.5 547841.5, 588218 547841.5, 588218 547842, 588218.5 547842, 588218.5 547844, 588219 547844, 588219 547845, 588218.5 547845, 588218.5 547845.5, 588218 547845.5, 588218 547846, 588217.5 547846, 588217.5 547846.5, 588217 547846.5, 588217 547847, 588216.5 547847, 588216.5 547847.5, 588216 547847.5, 588216 547848, 588215.5 547848, 588215.5 547848.5, 588215 547848.5, 588215 547849, 588214.5 547849, 588214.5 547849.5, 588214 547849.5, 588214 547850, 588213.5 547850, 588213.5 547850.5, 588213 547850.5, 588213 547851, 588212.5 547851, 588212.5 547851.5, 588212 547851.5, 588212 547852, 588212.5 547852, 588213 547852, 588213 547853, 588213.5 547853, 588213.5 547855.5, 588211 547855.5), (588220.5 547834, 588221 547834, 588221.5 547834, 588221.5 547835.5, 588221 547835.5, 588221 547836, 588220.5 547836, 588220.5 547836.5, 588219.5 547836.5, 588219.5 547835, 588219 547835, 588219 547834, 588219.5 547834, 588219.5 547833.5, 588220.5 547833.5, 588220.5 547834), (588220.5 547832, 588221.5 547832, 588221.5 547831.5, 588220.5 547831.5, 588220.5 547832))')\n"
   ]
  },
  {
   "cell_type": "code",
   "execution_count": null,
   "metadata": {},
   "outputs": [],
   "source": [
    "print_descriptors(polygon2)"
   ]
  },
  {
   "source": [
    "## Extra problems\n",
    "Non-trivial questions"
   ],
   "cell_type": "markdown",
   "metadata": {}
  },
  {
   "cell_type": "code",
   "execution_count": null,
   "metadata": {},
   "outputs": [],
   "source": [
    "sphericity\n",
    "axis_minor\n",
    "axis_major\n",
    "rectangularity\n",
    "\n",
    "fourier_descriptors\n",
    "spatial_moments"
   ]
  },
  {
   "source": [
    "Fourier contours: [PyEFD — PyEFD 1.0 documentation](https://pyefd.readthedocs.io/en/latest/#general-usage-examples)"
   ],
   "cell_type": "markdown",
   "metadata": {}
  },
  {
   "source": [
    "### More details on all kind of possible descriptors:\n",
    "\n",
    "\n",
    "[A Survey of Shape Feature Extraction Techniques](https://hal.archives-ouvertes.fr/hal-00446037/document)"
   ],
   "cell_type": "markdown",
   "metadata": {}
  }
 ]
}