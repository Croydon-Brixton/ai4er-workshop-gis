{
 "metadata": {
  "language_info": {
   "codemirror_mode": {
    "name": "ipython",
    "version": 3
   },
   "file_extension": ".py",
   "mimetype": "text/x-python",
   "name": "python",
   "nbconvert_exporter": "python",
   "pygments_lexer": "ipython3",
   "version": "3.8.8-final"
  },
  "orig_nbformat": 2,
  "kernelspec": {
   "name": "python38864bitai4erworkshopgisconda3382785939a84ea288fcc951f054071c",
   "display_name": "Python 3.8.8 64-bit ('ai4er-workshop-gis': conda)",
   "language": "python"
  }
 },
 "nbformat": 4,
 "nbformat_minor": 2,
 "cells": [
  {
   "cell_type": "code",
   "execution_count": 37,
   "metadata": {},
   "outputs": [],
   "source": [
    "import geopandas as gpd\n",
    "from pyproj import CRS\n",
    "import matplotlib.pyplot as plt\n",
    "\n",
    "from pathlib import Path"
   ]
  },
  {
   "cell_type": "code",
   "execution_count": 38,
   "metadata": {},
   "outputs": [],
   "source": [
    "dir_data = Path(\"..\")/ \"data\"/ \"danum\" \n",
    "fp = dir_data/ \"crowns_vector\" / \"dalponte_2013.json\""
   ]
  },
  {
   "source": [
    "## What's the problem here? How do you fix it?"
   ],
   "cell_type": "markdown",
   "metadata": {}
  },
  {
   "cell_type": "code",
   "execution_count": null,
   "metadata": {},
   "outputs": [],
   "source": [
    "data = gpd.read_file(fp)"
   ]
  },
  {
   "cell_type": "code",
   "execution_count": null,
   "metadata": {},
   "outputs": [],
   "source": []
  },
  {
   "cell_type": "code",
   "execution_count": null,
   "metadata": {},
   "outputs": [],
   "source": []
  },
  {
   "source": [
    "Hint: this is the bounding box"
   ],
   "cell_type": "markdown",
   "metadata": {}
  },
  {
   "cell_type": "code",
   "execution_count": 55,
   "metadata": {},
   "outputs": [],
   "source": [
    "fp_bounds = dir_data/\"danum_loc\" / \"Danum_50ha_0_0.shp\""
   ]
  },
  {
   "source": [
    "Hint 2: [UTM](https://en.wikipedia.org/wiki/Universal_Transverse_Mercator_coordinate_system)"
   ],
   "cell_type": "markdown",
   "metadata": {}
  },
  {
   "source": [
    "Hint 3: [link to specific part of pyproj documentation](https://pyproj4.github.io/pyproj/stable/examples.html#find-utm-crs-by-latitude-and-longitude)"
   ],
   "cell_type": "markdown",
   "metadata": {}
  },
  {
   "source": [
    "## Play around with different world projections\n",
    "\n",
    "[Top 10 World Map Projections – The Future Mapping Company](https://futuremaps.com/blogs/news/top-10-world-map-projections)"
   ],
   "cell_type": "markdown",
   "metadata": {}
  },
  {
   "source": [
    "#### Reference\n",
    "\n",
    "- http://geopandas.org/projections.html\n",
    "- https://pyproj4.github.io/pyproj/dev/api/crs.html\n",
    "- https://spatialreference.org/\n",
    "- https://epsg.io/"
   ],
   "cell_type": "markdown",
   "metadata": {}
  },
  {
   "cell_type": "code",
   "execution_count": null,
   "metadata": {},
   "outputs": [],
   "source": [
    "# Read in data\n",
    "fp = gpd.datasets.get_path(\"naturalearth_lowres\")\n",
    "world = gpd.read_file(fp)"
   ]
  },
  {
   "cell_type": "code",
   "execution_count": null,
   "metadata": {},
   "outputs": [],
   "source": [
    "# #Template\n",
    "# proj = ...\n",
    "\n",
    "# # Re-project and plot\n",
    "# world.to_crs(proj).plot()\n",
    "\n",
    "# # Remove x and y axis\n",
    "# plt.axis('off')\n",
    "# plt.title(\"Proj\")"
   ]
  }
 ]
}